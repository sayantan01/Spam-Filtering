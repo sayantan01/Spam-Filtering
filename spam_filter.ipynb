{
 "cells": [
  {
   "cell_type": "code",
   "execution_count": 1,
   "metadata": {},
   "outputs": [
    {
     "name": "stdout",
     "output_type": "stream",
     "text": [
      "  Category                                            Message\n",
      "0      ham  Go until jurong point, crazy.. Available only ...\n",
      "1      ham                      Ok lar... Joking wif u oni...\n",
      "2     spam  Free entry in 2 a wkly comp to win FA Cup fina...\n",
      "3      ham  U dun say so early hor... U c already then say...\n",
      "4      ham  Nah I don't think he goes to usf, he lives aro...\n",
      "(5572, 2)\n",
      "       Category                 Message\n",
      "count      5572                    5571\n",
      "unique        2                    5150\n",
      "top         ham  Sorry, I'll call later\n",
      "freq       4825                      30\n"
     ]
    }
   ],
   "source": [
    "import pandas as pd\n",
    "df=pd.read_csv('dataset.csv',usecols=['Category','Message'],header=0)\n",
    "\n",
    "\n",
    "text=df['Message']\n",
    "tags=df['Category']\n",
    "\n",
    "print(df.head())\n",
    "print(df.shape)\n",
    "print(df.describe())"
   ]
  },
  {
   "cell_type": "code",
   "execution_count": 2,
   "metadata": {},
   "outputs": [
    {
     "name": "stdout",
     "output_type": "stream",
     "text": [
      "(4179,)\n",
      "(1393,)\n",
      "object\n"
     ]
    }
   ],
   "source": [
    "#using sklearn\n",
    "\n",
    "from sklearn.model_selection import train_test_split\n",
    "from sklearn.preprocessing import LabelEncoder\n",
    "\n",
    "train_x,test_x,train_y,test_y=train_test_split(text,tags,random_state=1)\n",
    "print(train_x.shape)\n",
    "print(test_x.shape)\n",
    "\n",
    "encoder=LabelEncoder()\n",
    "train_y=encoder.fit_transform(train_y)\n",
    "test_y=encoder.fit_transform(test_y)\n",
    "print(train_x.dtype)"
   ]
  },
  {
   "cell_type": "code",
   "execution_count": 3,
   "metadata": {},
   "outputs": [],
   "source": [
    "from sklearn.feature_extraction.text import CountVectorizer\n",
    "from sklearn.feature_extraction.text import TfidfTransformer\n",
    "from sklearn.naive_bayes import MultinomialNB\n"
   ]
  },
  {
   "cell_type": "code",
   "execution_count": 10,
   "metadata": {},
   "outputs": [],
   "source": [
    "vect=CountVectorizer(stop_words='english')\n",
    "xtrain_count=vect.fit_transform(train_x.values.astype('U'))\n"
   ]
  },
  {
   "cell_type": "code",
   "execution_count": 11,
   "metadata": {},
   "outputs": [],
   "source": [
    "tfidf=TfidfTransformer()\n",
    "xtrain_tfidf=tfidf.fit_transform(xtrain_count)"
   ]
  },
  {
   "cell_type": "code",
   "execution_count": 12,
   "metadata": {},
   "outputs": [],
   "source": [
    "nb=MultinomialNB()\n",
    "nb_model=nb.fit(xtrain_tfidf,train_y)"
   ]
  },
  {
   "cell_type": "code",
   "execution_count": 13,
   "metadata": {},
   "outputs": [
    {
     "name": "stdout",
     "output_type": "stream",
     "text": [
      "0.9734386216798278\n"
     ]
    }
   ],
   "source": [
    "#testing the model\n",
    "import numpy as np\n",
    "\n",
    "xtest_count=vect.transform(test_x)\n",
    "xtest_tfidf=tfidf.transform(xtest_count)\n",
    "\n",
    "predicted=nb_model.predict(xtest_tfidf)\n",
    "print(np.mean(predicted==test_y))"
   ]
  },
  {
   "cell_type": "code",
   "execution_count": 40,
   "metadata": {},
   "outputs": [
    {
     "name": "stdout",
     "output_type": "stream",
     "text": [
      "0.9913854989231874\n"
     ]
    }
   ],
   "source": [
    "#svm model\n",
    "\n",
    "from sklearn.linear_model import SGDClassifier\n",
    "svmc=SGDClassifier(random_state=1,alpha=.0001)\n",
    "\n",
    "svm_model=svmc.fit(xtrain_tfidf,train_y)\n",
    "\n",
    "predicted=svm_model.predict(xtest_tfidf)\n",
    "print(np.mean(predicted==test_y))"
   ]
  },
  {
   "cell_type": "code",
   "execution_count": 21,
   "metadata": {},
   "outputs": [
    {
     "name": "stderr",
     "output_type": "stream",
     "text": [
      "Using TensorFlow backend.\n"
     ]
    }
   ],
   "source": [
    "from keras.models import Sequential\n",
    "from keras.layers import Dense, Dropout, Activation\n",
    "from keras import metrics"
   ]
  },
  {
   "cell_type": "code",
   "execution_count": 27,
   "metadata": {},
   "outputs": [],
   "source": [
    "input_size=7108\n",
    "def neural_model():\n",
    "    m=Sequential()\n",
    "    m.add(Dense(512,activation='relu',input_shape=(input_size,))) \n",
    "    m.add(Dropout(0.3))\n",
    "    m.add(Dense(216,activation='relu')) #hidden layer-1\n",
    "    m.add(Dropout(0.3))\n",
    "    m.add(Dense(1,activation='sigmoid')) #output layer\n",
    "    m.compile(loss='binary_crossentropy',optimizer='adam',metrics=['accuracy'])\n",
    "    return m"
   ]
  },
  {
   "cell_type": "code",
   "execution_count": 28,
   "metadata": {},
   "outputs": [
    {
     "name": "stdout",
     "output_type": "stream",
     "text": [
      "WARNING:tensorflow:From /home/sayantan/anaconda3/lib/python3.7/site-packages/tensorflow/python/framework/op_def_library.py:263: colocate_with (from tensorflow.python.framework.ops) is deprecated and will be removed in a future version.\n",
      "Instructions for updating:\n",
      "Colocations handled automatically by placer.\n",
      "WARNING:tensorflow:From /home/sayantan/anaconda3/lib/python3.7/site-packages/keras/backend/tensorflow_backend.py:3445: calling dropout (from tensorflow.python.ops.nn_ops) with keep_prob is deprecated and will be removed in a future version.\n",
      "Instructions for updating:\n",
      "Please use `rate` instead of `keep_prob`. Rate should be set to `rate = 1 - keep_prob`.\n",
      "WARNING:tensorflow:From /home/sayantan/anaconda3/lib/python3.7/site-packages/tensorflow/python/ops/math_ops.py:3066: to_int32 (from tensorflow.python.ops.math_ops) is deprecated and will be removed in a future version.\n",
      "Instructions for updating:\n",
      "Use tf.cast instead.\n",
      "Train on 3761 samples, validate on 418 samples\n",
      "Epoch 1/10\n",
      "3761/3761 [==============================] - 5s 1ms/step - loss: 0.6185 - acc: 0.8399 - val_loss: 0.4908 - val_acc: 0.8708\n",
      "Epoch 2/10\n",
      "3761/3761 [==============================] - 3s 750us/step - loss: 0.3824 - acc: 0.8649 - val_loss: 0.2591 - val_acc: 0.8708\n",
      "Epoch 3/10\n",
      "3761/3761 [==============================] - 3s 709us/step - loss: 0.2107 - acc: 0.8649 - val_loss: 0.1980 - val_acc: 0.8708\n",
      "Epoch 4/10\n",
      "3761/3761 [==============================] - 3s 703us/step - loss: 0.1564 - acc: 0.8649 - val_loss: 0.1715 - val_acc: 0.8708\n",
      "Epoch 5/10\n",
      "3761/3761 [==============================] - 3s 710us/step - loss: 0.1231 - acc: 0.8881 - val_loss: 0.1532 - val_acc: 0.9498\n",
      "Epoch 6/10\n",
      "3761/3761 [==============================] - 3s 709us/step - loss: 0.1022 - acc: 0.9739 - val_loss: 0.1407 - val_acc: 0.9665\n",
      "Epoch 7/10\n",
      "3761/3761 [==============================] - 3s 742us/step - loss: 0.0851 - acc: 0.9918 - val_loss: 0.1258 - val_acc: 0.9665\n",
      "Epoch 8/10\n",
      "3761/3761 [==============================] - 3s 711us/step - loss: 0.0623 - acc: 0.9979 - val_loss: 0.1081 - val_acc: 0.9713\n",
      "Epoch 9/10\n",
      "3761/3761 [==============================] - 3s 706us/step - loss: 0.0375 - acc: 0.9987 - val_loss: 0.0944 - val_acc: 0.9713\n",
      "Epoch 10/10\n",
      "3761/3761 [==============================] - 3s 693us/step - loss: 0.0187 - acc: 0.9995 - val_loss: 0.0905 - val_acc: 0.9737\n"
     ]
    }
   ],
   "source": [
    "model=neural_model()\n",
    "from keras import callbacks\n",
    "es_callback = callbacks.EarlyStopping(monitor='val_loss', patience=3)\n",
    "\n",
    "hist=model.fit(xtrain_tfidf,train_y,batch_size=500,epochs=10,verbose=1,validation_split=0.1,callbacks=[es_callback])\n"
   ]
  },
  {
   "cell_type": "code",
   "execution_count": 30,
   "metadata": {},
   "outputs": [
    {
     "name": "stdout",
     "output_type": "stream",
     "text": [
      "1393/1393 [==============================] - 1s 439us/step\n"
     ]
    },
    {
     "data": {
      "text/plain": [
       "[0.04066878163014396, 0.9935391241923905]"
      ]
     },
     "execution_count": 30,
     "metadata": {},
     "output_type": "execute_result"
    }
   ],
   "source": [
    "model.evaluate(xtest_tfidf,test_y)"
   ]
  },
  {
   "cell_type": "code",
   "execution_count": 32,
   "metadata": {},
   "outputs": [
    {
     "data": {
      "image/png": "[encoded data removed]",
      "text/plain": [
       "<Figure size 432x288 with 1 Axes>"
      ]
     },
     "metadata": {
      "needs_background": "light"
     },
     "output_type": "display_data"
    }
   ],
   "source": [
    "import matplotlib.pyplot as plt\n",
    "plt.plot(hist.history['loss'])\n",
    "plt.plot(hist.history['val_loss'])\n",
    "plt.title('loss')\n",
    "plt.xlabel(['epoch'])\n",
    "plt.ylabel(['loss'])\n",
    "plt.legend(['Train', 'Val'], loc='upper right')\n",
    "plt.show()"
   ]
  },
  {
   "cell_type": "code",
   "execution_count": 35,
   "metadata": {},
   "outputs": [
    {
     "data": {
      "image/png": "[encoded data removed]",
      "text/plain": [
       "<Figure size 432x288 with 1 Axes>"
      ]
     },
     "metadata": {
      "needs_background": "light"
     },
     "output_type": "display_data"
    }
   ],
   "source": [
    "plt.plot(hist.history['acc'])\n",
    "plt.plot(hist.history['val_acc'])\n",
    "plt.title('Model accuracy')\n",
    "plt.ylabel('Accuracy')\n",
    "plt.xlabel('Epoch')\n",
    "plt.legend(['Train', 'Val'], loc='lower right')\n",
    "plt.show()\n",
    "\n"
   ]
  },
  {
   "cell_type": "code",
   "execution_count": 1,
   "metadata": {},
   "outputs": [
    {
     "name": "stdout",
     "output_type": "stream",
     "text": [
      "\n"
     ]
    }
   ],
   "source": []
  },
  {
   "cell_type": "code",
   "execution_count": null,
   "metadata": {},
   "outputs": [],
   "source": []
  }
 ],
 "metadata": {
  "kernelspec": {
   "display_name": "Python 3",
   "language": "python",
   "name": "python3"
  },
  "language_info": {
   "codemirror_mode": {
    "name": "ipython",
    "version": 3
   },
   "file_extension": ".py",
   "mimetype": "text/x-python",
   "name": "python",
   "nbconvert_exporter": "python",
   "pygments_lexer": "ipython3",
   "version": "3.7.3"
  }
 },
 "nbformat": 4,
 "nbformat_minor": 2
}
